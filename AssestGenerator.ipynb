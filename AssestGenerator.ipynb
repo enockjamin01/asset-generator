{
  "nbformat": 4,
  "nbformat_minor": 0,
  "metadata": {
    "colab": {
      "provenance": []
    },
    "kernelspec": {
      "name": "python3",
      "display_name": "Python 3"
    },
    "language_info": {
      "name": "python"
    },
    "accelerator": "TPU"
  },
  "cells": [
    {
      "cell_type": "markdown",
      "source": [
        "# Assets Generator\n",
        "## Description:\n",
        "Assets Generator is a project that is built using DCGAN architecture, to generate Game assets for 2D games. This is built using TensorFlow and Keras. The model can take a noise image of (1,1,128) for n numbers and can generate n numbers of images of (64,64,3).\n",
        "\n",
        "This model is trained with 865 images for 150 epochs with a batch of 32\n",
        "\n",
        "#### Training time: 4 hours\n",
        "#### Notebook setting: TPU\n",
        "\n",
        "### Note:\n",
        "This project has the complete code base but is trained for a very short time period. Due to computation restrictions.\n",
        "\n",
        "The code for Data Augmentation is commented on the code cell and you can change the number of epochs and batch size and train for more epochs for better results and Experimenting with the project\n",
        "\n",
        "#### There is no change required in tunning the model code\n",
        "\n",
        "## Input shape:\n",
        "### Noise: (1,1,128)\n",
        "\n",
        "## Adding more training data\n",
        "\n",
        "More data can be added to the respective image folder and the path should be provided to the respective image writing and getting functions (write_images,getimages)\n",
        "\n",
        "## Frameworks used:\n",
        "\n",
        "    1.Tensorflow\n",
        "    2.Keras\n",
        "    3.Numpy\n",
        "    4.Matplotlib"
      ],
      "metadata": {
        "id": "3truwUOYVhGY"
      }
    },
    {
      "cell_type": "markdown",
      "source": [
        "### Modules Required for training and data processing"
      ],
      "metadata": {
        "id": "ta_yXe78Yxiv"
      }
    },
    {
      "cell_type": "code",
      "execution_count": 92,
      "metadata": {
        "id": "CPBRKQ-q2-bF"
      },
      "outputs": [],
      "source": [
        "import tensorflow as tf\n",
        "import matplotlib.pyplot as plt\n",
        "import random as rd\n",
        "import numpy as np\n",
        "import os\n",
        "import cv2 as cv"
      ]
    },
    {
      "cell_type": "code",
      "source": [
        "#Function for writing images\n",
        "def write_images(source,destination):\n",
        "    img_num=1\n",
        "    count=0\n",
        "    for filename in os.listdir(source):\n",
        "        img=cv.imread(os.path.join(source,filename))\n",
        "        if img is not None:\n",
        "            cv.imwrite(os.path.join(destination,str(img_num)+\".png\"),img)\n",
        "            img_num+=1\n",
        "            count+=1\n",
        "    print(count,\" Number of Images written\")"
      ],
      "metadata": {
        "id": "swDFqQqa3PW9"
      },
      "execution_count": 94,
      "outputs": []
    },
    {
      "cell_type": "code",
      "source": [
        "#Function for getting images from images folder\n",
        "def getimages(dataset):\n",
        "  x=[]\n",
        "  count=0\n",
        "  for filename in os.listdir(dataset):\n",
        "    img=cv.imread(os.path.join(dataset,filename))\n",
        "    if img is not None:\n",
        "      img=cv.cvtColor(img,cv.COLOR_BGR2RGB)\n",
        "      img=cv.resize(img,(64,64))/255.\n",
        "      x.append(img)\n",
        "      count+=1\n",
        "  print(count,\" Images recieved\")\n",
        "  return x"
      ],
      "metadata": {
        "id": "wSS0uUb03Zm0"
      },
      "execution_count": 95,
      "outputs": []
    },
    {
      "cell_type": "markdown",
      "source": [
        "### Data fetching and Data Augmentation"
      ],
      "metadata": {
        "id": "J8aLUOafZCfd"
      }
    },
    {
      "cell_type": "code",
      "source": [
        "write_images(source=\"/content/drive/MyDrive/game-assest-generator/images\",destination=\"/content/drive/MyDrive/game-assest-generator/dataset\")"
      ],
      "metadata": {
        "colab": {
          "base_uri": "https://localhost:8080/"
        },
        "id": "lUAIxRo13gGa",
        "outputId": "979968ff-e439-41ca-83a3-036cc9af003b"
      },
      "execution_count": 7,
      "outputs": [
        {
          "output_type": "stream",
          "name": "stdout",
          "text": [
            "865  Number of Images written\n"
          ]
        }
      ]
    },
    {
      "cell_type": "code",
      "source": [
        "dataset=getimages(dataset=\"/content/drive/MyDrive/game-assest-generator/dataset\")"
      ],
      "metadata": {
        "colab": {
          "base_uri": "https://localhost:8080/"
        },
        "id": "sxo9BjKB4qgd",
        "outputId": "3c4c2850-b18e-427c-9f16-c8838bcf0b05"
      },
      "execution_count": 8,
      "outputs": [
        {
          "output_type": "stream",
          "name": "stdout",
          "text": [
            "865  Images recieved\n"
          ]
        }
      ]
    },
    {
      "cell_type": "markdown",
      "source": [
        "### Data augmentation\n",
        "1. Flipping\n",
        "2. Rotating"
      ],
      "metadata": {
        "id": "n0zPtE8xaKEq"
      }
    },
    {
      "cell_type": "code",
      "source": [
        "#Function to flip images\n",
        "# def flip_images(dataset):\n",
        "#   dataset_flip=[]\n",
        "#   count=0\n",
        "#   flip_code=[-1,0,1]\n",
        "#   for data in dataset:\n",
        "#     flip_rand=flip_code[rd.randint(0,2)]\n",
        "#     img=cv.flip(data,flip_rand)\n",
        "#     dataset_flip.append(img)\n",
        "#     count+=1\n",
        "#   print(count,\" Number of images flipped\")\n",
        "#   return dataset_flip"
      ],
      "metadata": {
        "id": "aYni-le0ZG9k"
      },
      "execution_count": 96,
      "outputs": []
    },
    {
      "cell_type": "code",
      "source": [
        "#Function to rotate images\n",
        "# def rotate_images(dataset):\n",
        "#   dataset_rotation=[]\n",
        "#   count=0\n",
        "#   rotate_code=[cv.ROTATE_90_CLOCKWISE,cv.ROTATE_180,cv.ROTATE_90_COUNTERCLOCKWISE]\n",
        "#   for data in dataset:\n",
        "#     rotate_rand=rotate_code[rd.randint(0,2)]\n",
        "#     img=cv.rotate(img,rotate_rand)\n",
        "#     dataset_rotation.append(img)\n",
        "#     count+=1\n",
        "#   print(count,\" Number of images rotated\")\n",
        "#   return dataset_rotation"
      ],
      "metadata": {
        "id": "aMTZ3NBVZfmK"
      },
      "execution_count": 97,
      "outputs": []
    },
    {
      "cell_type": "code",
      "source": [
        "# dataset_flip=flip_images(dataset=dataset)"
      ],
      "metadata": {
        "id": "g5dqySRsZ4r3"
      },
      "execution_count": 98,
      "outputs": []
    },
    {
      "cell_type": "code",
      "source": [
        "# dataset_rotate=rotate_images(dataset=dataset)"
      ],
      "metadata": {
        "id": "UMvIBrgMZ_B3"
      },
      "execution_count": 99,
      "outputs": []
    },
    {
      "cell_type": "code",
      "source": [
        "# dataset=dataset+dataset_flip+dataset_rotate"
      ],
      "metadata": {
        "id": "Pt4RyYO0aDWJ"
      },
      "execution_count": 100,
      "outputs": []
    },
    {
      "cell_type": "code",
      "source": [
        "dataset=np.array(dataset).astype(np.float32)"
      ],
      "metadata": {
        "id": "5U6-KCKQ4_A1"
      },
      "execution_count": 9,
      "outputs": []
    },
    {
      "cell_type": "code",
      "source": [
        "randnum=rd.randint(0,len(dataset)-1)"
      ],
      "metadata": {
        "id": "gmDLKN2I5Q3E"
      },
      "execution_count": 10,
      "outputs": []
    },
    {
      "cell_type": "code",
      "source": [
        "plt.imshow(dataset[randnum])"
      ],
      "metadata": {
        "colab": {
          "base_uri": "https://localhost:8080/",
          "height": 450
        },
        "id": "ieeOkDFu5W6j",
        "outputId": "6b3c0656-f128-436b-9a7c-def6a0451916"
      },
      "execution_count": 11,
      "outputs": [
        {
          "output_type": "execute_result",
          "data": {
            "text/plain": [
              "<matplotlib.image.AxesImage at 0x7f4b9f1d1270>"
            ]
          },
          "metadata": {},
          "execution_count": 11
        },
        {
          "output_type": "display_data",
          "data": {
            "text/plain": [
              "<Figure size 640x480 with 1 Axes>"
            ],
            "image/png": "[encoded data removed]"
          },
          "metadata": {}
        }
      ]
    },
    {
      "cell_type": "code",
      "source": [
        "print(\"Shape of images: \",dataset[randnum].shape)"
      ],
      "metadata": {
        "colab": {
          "base_uri": "https://localhost:8080/"
        },
        "id": "Vwv0_mRL53f_",
        "outputId": "4f76df13-2af2-4d66-d539-7e8eabfbcd5e"
      },
      "execution_count": 12,
      "outputs": [
        {
          "output_type": "stream",
          "name": "stdout",
          "text": [
            "Shape of images:  (64, 64, 3)\n"
          ]
        }
      ]
    },
    {
      "cell_type": "code",
      "source": [
        "print(type(dataset))"
      ],
      "metadata": {
        "colab": {
          "base_uri": "https://localhost:8080/"
        },
        "id": "-x6Ylo7jFEFK",
        "outputId": "c01a768e-ebfd-44ca-bf54-a9c38a98e137"
      },
      "execution_count": 13,
      "outputs": [
        {
          "output_type": "stream",
          "name": "stdout",
          "text": [
            "<class 'numpy.ndarray'>\n"
          ]
        }
      ]
    },
    {
      "cell_type": "markdown",
      "source": [
        "### Converting data into batches"
      ],
      "metadata": {
        "id": "YSeuEomNaRuO"
      }
    },
    {
      "cell_type": "code",
      "source": [
        "BATCH_SIZE=32"
      ],
      "metadata": {
        "id": "HGtNGAkHFH7m"
      },
      "execution_count": 14,
      "outputs": []
    },
    {
      "cell_type": "code",
      "source": [
        "dataset=tf.data.Dataset.from_tensor_slices(dataset)"
      ],
      "metadata": {
        "id": "wY77X6ixFXdF"
      },
      "execution_count": 15,
      "outputs": []
    },
    {
      "cell_type": "code",
      "source": [
        "dataset = dataset.shuffle(1000)"
      ],
      "metadata": {
        "id": "YUFqdtqvGEX3"
      },
      "execution_count": 16,
      "outputs": []
    },
    {
      "cell_type": "code",
      "source": [
        "dataset = dataset.batch(BATCH_SIZE).prefetch(1)"
      ],
      "metadata": {
        "id": "TiIhLJUOGHJO"
      },
      "execution_count": 17,
      "outputs": []
    },
    {
      "cell_type": "markdown",
      "source": [
        "##DCGAN"
      ],
      "metadata": {
        "id": "jEBz7xPyaYuY"
      }
    },
    {
      "cell_type": "markdown",
      "source": [
        "### Generator"
      ],
      "metadata": {
        "id": "1Wqryib3aarH"
      }
    },
    {
      "cell_type": "code",
      "source": [
        "generator=tf.keras.Sequential()\n",
        "generator.add(tf.keras.layers.Dense(units=4*4*512,input_shape=(1,1,128)))\n",
        "generator.add(tf.keras.layers.BatchNormalization())\n",
        "generator.add(tf.keras.layers.ReLU())\n",
        "generator.add(tf.keras.layers.Reshape((4,4,512)))\n",
        "generator.add(tf.keras.layers.Conv2DTranspose(filters=256,kernel_size=4,strides=2,padding=\"same\",use_bias=False))\n",
        "generator.add(tf.keras.layers.BatchNormalization())\n",
        "generator.add(tf.keras.layers.ReLU())\n",
        "generator.add(tf.keras.layers.Conv2DTranspose(filters=128,kernel_size=4,strides=2,padding=\"same\",use_bias=False))\n",
        "generator.add(tf.keras.layers.BatchNormalization())\n",
        "generator.add(tf.keras.layers.ReLU())\n",
        "generator.add(tf.keras.layers.Conv2DTranspose(filters=64,kernel_size=4,strides=2,padding=\"same\",use_bias=False))\n",
        "generator.add(tf.keras.layers.BatchNormalization())\n",
        "generator.add(tf.keras.layers.ReLU())\n",
        "generator.add(tf.keras.layers.Conv2DTranspose(filters=3,kernel_size=4,strides=2,padding=\"same\"))\n",
        "generator.add(tf.keras.layers.Activation(\"tanh\"))"
      ],
      "metadata": {
        "id": "cRHhPAjL64NN"
      },
      "execution_count": 18,
      "outputs": []
    },
    {
      "cell_type": "code",
      "source": [
        "generator.summary()"
      ],
      "metadata": {
        "colab": {
          "base_uri": "https://localhost:8080/"
        },
        "id": "9pixaSDN7S9C",
        "outputId": "7e2e4bcd-76a8-4520-9b2f-a2756694eaa6"
      },
      "execution_count": 19,
      "outputs": [
        {
          "output_type": "stream",
          "name": "stdout",
          "text": [
            "Model: \"sequential\"\n",
            "_________________________________________________________________\n",
            " Layer (type)                Output Shape              Param #   \n",
            "=================================================================\n",
            " dense (Dense)               (None, 1, 1, 8192)        1056768   \n",
            "                                                                 \n",
            " batch_normalization (BatchN  (None, 1, 1, 8192)       32768     \n",
            " ormalization)                                                   \n",
            "                                                                 \n",
            " re_lu (ReLU)                (None, 1, 1, 8192)        0         \n",
            "                                                                 \n",
            " reshape (Reshape)           (None, 4, 4, 512)         0         \n",
            "                                                                 \n",
            " conv2d_transpose (Conv2DTra  (None, 8, 8, 256)        2097152   \n",
            " nspose)                                                         \n",
            "                                                                 \n",
            " batch_normalization_1 (Batc  (None, 8, 8, 256)        1024      \n",
            " hNormalization)                                                 \n",
            "                                                                 \n",
            " re_lu_1 (ReLU)              (None, 8, 8, 256)         0         \n",
            "                                                                 \n",
            " conv2d_transpose_1 (Conv2DT  (None, 16, 16, 128)      524288    \n",
            " ranspose)                                                       \n",
            "                                                                 \n",
            " batch_normalization_2 (Batc  (None, 16, 16, 128)      512       \n",
            " hNormalization)                                                 \n",
            "                                                                 \n",
            " re_lu_2 (ReLU)              (None, 16, 16, 128)       0         \n",
            "                                                                 \n",
            " conv2d_transpose_2 (Conv2DT  (None, 32, 32, 64)       131072    \n",
            " ranspose)                                                       \n",
            "                                                                 \n",
            " batch_normalization_3 (Batc  (None, 32, 32, 64)       256       \n",
            " hNormalization)                                                 \n",
            "                                                                 \n",
            " re_lu_3 (ReLU)              (None, 32, 32, 64)        0         \n",
            "                                                                 \n",
            " conv2d_transpose_3 (Conv2DT  (None, 64, 64, 3)        3075      \n",
            " ranspose)                                                       \n",
            "                                                                 \n",
            " activation (Activation)     (None, 64, 64, 3)         0         \n",
            "                                                                 \n",
            "=================================================================\n",
            "Total params: 3,846,915\n",
            "Trainable params: 3,829,635\n",
            "Non-trainable params: 17,280\n",
            "_________________________________________________________________\n"
          ]
        }
      ]
    },
    {
      "cell_type": "markdown",
      "source": [
        "### Discriminator"
      ],
      "metadata": {
        "id": "N8KnRQH0ac8K"
      }
    },
    {
      "cell_type": "code",
      "source": [
        "discriminator = tf.keras.Sequential()\n",
        "discriminator.add(tf.keras.layers.Input(shape=(64, 64, 3)))\n",
        "discriminator.add(tf.keras.layers.Conv2D(filters=64, kernel_size=4, strides=(2, 2), padding=\"same\"))\n",
        "discriminator.add(tf.keras.layers.LeakyReLU())\n",
        "discriminator.add(tf.keras.layers.Dropout(rate=0.3))\n",
        "discriminator.add(tf.keras.layers.Conv2D(filters=128, kernel_size=4, strides=(2, 2), padding=\"same\"))\n",
        "discriminator.add(tf.keras.layers.BatchNormalization())\n",
        "discriminator.add(tf.keras.layers.LeakyReLU())\n",
        "discriminator.add(tf.keras.layers.Dropout(rate=0.3))\n",
        "discriminator.add(tf.keras.layers.Conv2D(filters=256, kernel_size=4, strides=(2, 2), padding=\"same\"))\n",
        "discriminator.add(tf.keras.layers.BatchNormalization())\n",
        "discriminator.add(tf.keras.layers.LeakyReLU())\n",
        "discriminator.add(tf.keras.layers.Dropout(rate=0.3))\n",
        "discriminator.add(tf.keras.layers.Conv2D(filters=512, kernel_size=4, strides=(2, 2), padding=\"same\"))\n",
        "discriminator.add(tf.keras.layers.BatchNormalization())\n",
        "discriminator.add(tf.keras.layers.LeakyReLU())\n",
        "discriminator.add(tf.keras.layers.Conv2D(filters=1, kernel_size=4, strides=(1, 1), padding=\"valid\"))\n",
        "discriminator.add(tf.keras.layers.Dropout(rate=0.3))\n",
        "discriminator.add(tf.keras.layers.Flatten())\n",
        "discriminator.add(tf.keras.layers.Dense(units=1, activation=\"sigmoid\"))"
      ],
      "metadata": {
        "id": "TqA4ZHO07VhI"
      },
      "execution_count": 20,
      "outputs": []
    },
    {
      "cell_type": "code",
      "source": [
        "discriminator.summary()"
      ],
      "metadata": {
        "colab": {
          "base_uri": "https://localhost:8080/"
        },
        "id": "ae7QzJW_8jBN",
        "outputId": "d46e29ca-c04f-44ba-c8aa-33260b624097"
      },
      "execution_count": 21,
      "outputs": [
        {
          "output_type": "stream",
          "name": "stdout",
          "text": [
            "Model: \"sequential_1\"\n",
            "_________________________________________________________________\n",
            " Layer (type)                Output Shape              Param #   \n",
            "=================================================================\n",
            " conv2d (Conv2D)             (None, 32, 32, 64)        3136      \n",
            "                                                                 \n",
            " leaky_re_lu (LeakyReLU)     (None, 32, 32, 64)        0         \n",
            "                                                                 \n",
            " dropout (Dropout)           (None, 32, 32, 64)        0         \n",
            "                                                                 \n",
            " conv2d_1 (Conv2D)           (None, 16, 16, 128)       131200    \n",
            "                                                                 \n",
            " batch_normalization_4 (Batc  (None, 16, 16, 128)      512       \n",
            " hNormalization)                                                 \n",
            "                                                                 \n",
            " leaky_re_lu_1 (LeakyReLU)   (None, 16, 16, 128)       0         \n",
            "                                                                 \n",
            " dropout_1 (Dropout)         (None, 16, 16, 128)       0         \n",
            "                                                                 \n",
            " conv2d_2 (Conv2D)           (None, 8, 8, 256)         524544    \n",
            "                                                                 \n",
            " batch_normalization_5 (Batc  (None, 8, 8, 256)        1024      \n",
            " hNormalization)                                                 \n",
            "                                                                 \n",
            " leaky_re_lu_2 (LeakyReLU)   (None, 8, 8, 256)         0         \n",
            "                                                                 \n",
            " dropout_2 (Dropout)         (None, 8, 8, 256)         0         \n",
            "                                                                 \n",
            " conv2d_3 (Conv2D)           (None, 4, 4, 512)         2097664   \n",
            "                                                                 \n",
            " batch_normalization_6 (Batc  (None, 4, 4, 512)        2048      \n",
            " hNormalization)                                                 \n",
            "                                                                 \n",
            " leaky_re_lu_3 (LeakyReLU)   (None, 4, 4, 512)         0         \n",
            "                                                                 \n",
            " conv2d_4 (Conv2D)           (None, 1, 1, 1)           8193      \n",
            "                                                                 \n",
            " dropout_3 (Dropout)         (None, 1, 1, 1)           0         \n",
            "                                                                 \n",
            " flatten (Flatten)           (None, 1)                 0         \n",
            "                                                                 \n",
            " dense_1 (Dense)             (None, 1)                 2         \n",
            "                                                                 \n",
            "=================================================================\n",
            "Total params: 2,768,323\n",
            "Trainable params: 2,766,531\n",
            "Non-trainable params: 1,792\n",
            "_________________________________________________________________\n"
          ]
        }
      ]
    },
    {
      "cell_type": "markdown",
      "source": [
        "### GAN"
      ],
      "metadata": {
        "id": "V4sjlVDCag2K"
      }
    },
    {
      "cell_type": "code",
      "source": [
        "gan=tf.keras.Sequential([generator,discriminator])"
      ],
      "metadata": {
        "id": "KN41fWkU8mNZ"
      },
      "execution_count": 22,
      "outputs": []
    },
    {
      "cell_type": "markdown",
      "source": [
        "#### Adding optimizer and loss functions"
      ],
      "metadata": {
        "id": "P5TAY7ytai-4"
      }
    },
    {
      "cell_type": "code",
      "source": [
        "discriminator.compile(optimizer=tf.keras.optimizers.Adam(learning_rate=0.0002, beta_1=0.5),loss=tf.keras.losses.BinaryCrossentropy())\n",
        "discriminator.trainable=False\n",
        "gan.compile(optimizer=tf.keras.optimizers.Adam(learning_rate=0.0002, beta_1=0.5),loss=tf.keras.losses.BinaryCrossentropy())"
      ],
      "metadata": {
        "id": "ryFpPWOT8pIZ"
      },
      "execution_count": 23,
      "outputs": []
    },
    {
      "cell_type": "markdown",
      "source": [
        "### Function for training the DCGAN for each epoch and batch"
      ],
      "metadata": {
        "id": "Mq-XlVjAanY8"
      }
    },
    {
      "cell_type": "code",
      "source": [
        "def training(gan,x,epochs):\n",
        "  generator,discriminator=gan.layers\n",
        "  for epoch in range(0,epochs):\n",
        "    for images in dataset:\n",
        "      batch_size=images.shape[0]\n",
        "      noise=tf.random.normal(shape=[batch_size, 1,1,128])\n",
        "      fake_images=generator(noise)\n",
        "      combined_images=tf.concat([fake_images,images],axis=0)\n",
        "      discriminator_labels = tf.constant([[0.]] * batch_size + [[1.]] * batch_size)\n",
        "      discriminator.trainable=True\n",
        "      discriminator_loss=discriminator.train_on_batch(combined_images,discriminator_labels)\n",
        "      noise=tf.random.normal(shape=[batch_size, 1,1,128])\n",
        "      generator_labels=tf.constant([[1.]] * batch_size)\n",
        "      discriminator.trainable = False\n",
        "      gan_loss=gan.train_on_batch(noise,generator_labels)\n",
        "    print(\"epoch: \",epoch,\" discriminator loss: \",discriminator_loss,\" gan loss: \",gan_loss,\"batch_size: \",batch_size)\n",
        "  return fake_images"
      ],
      "metadata": {
        "id": "q87nnqFc8rhM"
      },
      "execution_count": 24,
      "outputs": []
    },
    {
      "cell_type": "markdown",
      "source": [
        "#### Training for 150 epochs"
      ],
      "metadata": {
        "id": "pRqU4KyeatAi"
      }
    },
    {
      "cell_type": "code",
      "source": [
        "images=training(gan=gan,x=dataset,epochs=150)"
      ],
      "metadata": {
        "colab": {
          "base_uri": "https://localhost:8080/"
        },
        "id": "ZFvICVLO822K",
        "outputId": "306c1db5-c843-4d4b-e8b2-307dae64af03"
      },
      "execution_count": 25,
      "outputs": [
        {
          "output_type": "stream",
          "name": "stdout",
          "text": [
            "epoch:  0  discriminator loss:  0.075807586312294  gan loss:  0.09086429327726364 batch_size:  1\n",
            "epoch:  1  discriminator loss:  11.156981468200684  gan loss:  1.9764785766601562 batch_size:  1\n",
            "epoch:  2  discriminator loss:  0.34688660502433777  gan loss:  0.06644750386476517 batch_size:  1\n",
            "epoch:  3  discriminator loss:  0.6931471824645996  gan loss:  0.24627573788166046 batch_size:  1\n",
            "epoch:  4  discriminator loss:  7.264578342437744  gan loss:  3.8511016368865967 batch_size:  1\n",
            "epoch:  5  discriminator loss:  6.197453498840332  gan loss:  0.7592374086380005 batch_size:  1\n",
            "epoch:  6  discriminator loss:  0.3501061201095581  gan loss:  1.0232369899749756 batch_size:  1\n",
            "epoch:  7  discriminator loss:  2.1842241287231445  gan loss:  21.03715705871582 batch_size:  1\n",
            "epoch:  8  discriminator loss:  0.34655651450157166  gan loss:  0.013498990796506405 batch_size:  1\n",
            "epoch:  9  discriminator loss:  0.10693275928497314  gan loss:  3.055044651031494 batch_size:  1\n",
            "epoch:  10  discriminator loss:  0.3465498685836792  gan loss:  0.4250949025154114 batch_size:  1\n",
            "epoch:  11  discriminator loss:  0.03597082570195198  gan loss:  5.921588897705078 batch_size:  1\n",
            "epoch:  12  discriminator loss:  2.565680980682373  gan loss:  17.100143432617188 batch_size:  1\n",
            "epoch:  13  discriminator loss:  0.3462952673435211  gan loss:  1.3337979316711426 batch_size:  1\n",
            "epoch:  14  discriminator loss:  0.34594863653182983  gan loss:  0.004365099128335714 batch_size:  1\n",
            "epoch:  15  discriminator loss:  0.0023354063741862774  gan loss:  0.008791296742856503 batch_size:  1\n",
            "epoch:  16  discriminator loss:  1.2311081886291504  gan loss:  9.411423683166504 batch_size:  1\n",
            "epoch:  17  discriminator loss:  5.785816669464111  gan loss:  0.2950972020626068 batch_size:  1\n",
            "epoch:  18  discriminator loss:  0.5261755585670471  gan loss:  0.6944966912269592 batch_size:  1\n",
            "epoch:  19  discriminator loss:  0.6931482553482056  gan loss:  3.419193672016263e-05 batch_size:  1\n",
            "epoch:  20  discriminator loss:  0.3462744355201721  gan loss:  0.6946638822555542 batch_size:  1\n",
            "epoch:  21  discriminator loss:  0.34728389978408813  gan loss:  0.6943544149398804 batch_size:  1\n",
            "epoch:  22  discriminator loss:  0.34606289863586426  gan loss:  0.00020848240819759667 batch_size:  1\n",
            "epoch:  23  discriminator loss:  8.381451266359363e-08  gan loss:  1.6741620129323564e-05 batch_size:  1\n",
            "epoch:  24  discriminator loss:  0.693148136138916  gan loss:  0.6944774985313416 batch_size:  1\n",
            "epoch:  25  discriminator loss:  0.34579432010650635  gan loss:  9.529515955364332e-05 batch_size:  1\n",
            "epoch:  26  discriminator loss:  0.008421606384217739  gan loss:  0.6952206492424011 batch_size:  1\n",
            "epoch:  27  discriminator loss:  0.3456275761127472  gan loss:  1.303363751503639e-05 batch_size:  1\n",
            "epoch:  28  discriminator loss:  0.3522792458534241  gan loss:  0.0010560514638200402 batch_size:  1\n",
            "epoch:  29  discriminator loss:  0.007847349159419537  gan loss:  0.6951652765274048 batch_size:  1\n",
            "epoch:  30  discriminator loss:  0.0477607436478138  gan loss:  2.697706937789917 batch_size:  1\n",
            "epoch:  31  discriminator loss:  0.6931487321853638  gan loss:  4.307693253751549e-13 batch_size:  1\n",
            "epoch:  32  discriminator loss:  0.34563153982162476  gan loss:  1.2525180892453136e-09 batch_size:  1\n",
            "epoch:  33  discriminator loss:  0.6931508779525757  gan loss:  0.6958546042442322 batch_size:  1\n",
            "epoch:  34  discriminator loss:  0.9381701946258545  gan loss:  123.04663848876953 batch_size:  1\n",
            "epoch:  35  discriminator loss:  0.34521323442459106  gan loss:  0.0007642828859388828 batch_size:  1\n",
            "epoch:  36  discriminator loss:  0.1149739921092987  gan loss:  5.1970086097717285 batch_size:  1\n",
            "epoch:  37  discriminator loss:  0.5111688375473022  gan loss:  11.8273344039917 batch_size:  1\n",
            "epoch:  38  discriminator loss:  1.9878404140472412  gan loss:  7.2579145431518555 batch_size:  1\n",
            "epoch:  39  discriminator loss:  0.00020204539760015905  gan loss:  6.443359598051757e-05 batch_size:  1\n",
            "epoch:  40  discriminator loss:  0.34762895107269287  gan loss:  0.011696062050759792 batch_size:  1\n",
            "epoch:  41  discriminator loss:  0.3456328213214874  gan loss:  0.012519082054495811 batch_size:  1\n",
            "epoch:  42  discriminator loss:  2.275322914123535  gan loss:  15.866077423095703 batch_size:  1\n",
            "epoch:  43  discriminator loss:  1.355850372419809e-06  gan loss:  0.6954988241195679 batch_size:  1\n",
            "epoch:  44  discriminator loss:  0.6931499242782593  gan loss:  1.9913797189019533e-07 batch_size:  1\n",
            "epoch:  45  discriminator loss:  2.8675426477775545e-09  gan loss:  6.840119749540463e-05 batch_size:  1\n",
            "epoch:  46  discriminator loss:  0.014042165130376816  gan loss:  0.00591033510863781 batch_size:  1\n",
            "epoch:  47  discriminator loss:  0.34516265988349915  gan loss:  0.0007447949610650539 batch_size:  1\n",
            "epoch:  48  discriminator loss:  0.6861329078674316  gan loss:  29.01671600341797 batch_size:  1\n",
            "epoch:  49  discriminator loss:  4.569421768188477  gan loss:  39.249820709228516 batch_size:  1\n",
            "epoch:  50  discriminator loss:  0.3446520268917084  gan loss:  0.023587344214320183 batch_size:  1\n",
            "epoch:  51  discriminator loss:  0.6931551694869995  gan loss:  0.6971417665481567 batch_size:  1\n",
            "epoch:  52  discriminator loss:  4.854935646057129  gan loss:  96.02313995361328 batch_size:  1\n",
            "epoch:  53  discriminator loss:  0.6931543350219727  gan loss:  0.6969144344329834 batch_size:  1\n",
            "epoch:  54  discriminator loss:  0.3793584406375885  gan loss:  0.0004560476809274405 batch_size:  1\n",
            "epoch:  55  discriminator loss:  0.0012849930208176374  gan loss:  0.011056874878704548 batch_size:  1\n",
            "epoch:  56  discriminator loss:  0.40002602338790894  gan loss:  1.7957040071487427 batch_size:  1\n",
            "epoch:  57  discriminator loss:  0.35406017303466797  gan loss:  0.7136636972427368 batch_size:  1\n",
            "epoch:  58  discriminator loss:  0.3460630774497986  gan loss:  0.3578885793685913 batch_size:  1\n",
            "epoch:  59  discriminator loss:  0.6931480169296265  gan loss:  0.46966081857681274 batch_size:  1\n",
            "epoch:  60  discriminator loss:  0.0012807209277525544  gan loss:  0.019404545426368713 batch_size:  1\n",
            "epoch:  61  discriminator loss:  0.6931480169296265  gan loss:  2.3433170318603516 batch_size:  1\n",
            "epoch:  62  discriminator loss:  0.0008722945349290967  gan loss:  0.694399356842041 batch_size:  1\n",
            "epoch:  63  discriminator loss:  0.3740070164203644  gan loss:  0.8999420404434204 batch_size:  1\n",
            "epoch:  64  discriminator loss:  0.3460545539855957  gan loss:  0.6944053769111633 batch_size:  1\n",
            "epoch:  65  discriminator loss:  1.4561169147491455  gan loss:  0.695311427116394 batch_size:  1\n",
            "epoch:  66  discriminator loss:  0.000802170776296407  gan loss:  1.1255158369749552e-06 batch_size:  1\n",
            "epoch:  67  discriminator loss:  1.5377039744635113e-05  gan loss:  0.00012252824672032148 batch_size:  1\n",
            "epoch:  68  discriminator loss:  0.3471084237098694  gan loss:  0.6940024495124817 batch_size:  1\n",
            "epoch:  69  discriminator loss:  0.014646237716078758  gan loss:  0.6937239766120911 batch_size:  1\n",
            "epoch:  70  discriminator loss:  0.3468131721019745  gan loss:  0.00012050042278133333 batch_size:  1\n",
            "epoch:  71  discriminator loss:  2.6787691240315326e-05  gan loss:  0.0020004641264677048 batch_size:  1\n",
            "epoch:  72  discriminator loss:  0.34688800573349  gan loss:  1.1275637916696724e-05 batch_size:  1\n",
            "epoch:  73  discriminator loss:  0.0024997061118483543  gan loss:  4.3183522393519524e-06 batch_size:  1\n",
            "epoch:  74  discriminator loss:  0.6931474208831787  gan loss:  2.4789855501694547e-07 batch_size:  1\n",
            "epoch:  75  discriminator loss:  4.096650123596191  gan loss:  0.6936955451965332 batch_size:  1\n",
            "epoch:  76  discriminator loss:  0.34956228733062744  gan loss:  0.5794713497161865 batch_size:  1\n",
            "epoch:  77  discriminator loss:  2.9744246006011963  gan loss:  9.16728401184082 batch_size:  1\n",
            "epoch:  78  discriminator loss:  0.0003284788690507412  gan loss:  4.300308137317188e-05 batch_size:  1\n",
            "epoch:  79  discriminator loss:  0.34725430607795715  gan loss:  0.6942472457885742 batch_size:  1\n",
            "epoch:  80  discriminator loss:  0.34587201476097107  gan loss:  0.6947600245475769 batch_size:  1\n",
            "epoch:  81  discriminator loss:  5.31442892679479e-05  gan loss:  0.22549869120121002 batch_size:  1\n",
            "epoch:  82  discriminator loss:  0.05410183221101761  gan loss:  0.6949212551116943 batch_size:  1\n",
            "epoch:  83  discriminator loss:  0.000179749185917899  gan loss:  0.6949424147605896 batch_size:  1\n",
            "epoch:  84  discriminator loss:  0.7424503564834595  gan loss:  0.6943919062614441 batch_size:  1\n",
            "epoch:  85  discriminator loss:  6.008021831512451  gan loss:  23.5897159576416 batch_size:  1\n",
            "epoch:  86  discriminator loss:  0.47647249698638916  gan loss:  0.03798625245690346 batch_size:  1\n",
            "epoch:  87  discriminator loss:  0.34955620765686035  gan loss:  0.011509799398481846 batch_size:  1\n",
            "epoch:  88  discriminator loss:  0.3220452666282654  gan loss:  0.0006933481781743467 batch_size:  1\n",
            "epoch:  89  discriminator loss:  3.361450433731079  gan loss:  0.69558185338974 batch_size:  1\n",
            "epoch:  90  discriminator loss:  0.8867878317832947  gan loss:  7.810037641320378e-05 batch_size:  1\n",
            "epoch:  91  discriminator loss:  0.34593990445137024  gan loss:  0.6957066059112549 batch_size:  1\n",
            "epoch:  92  discriminator loss:  0.9866580963134766  gan loss:  1.5122150182724 batch_size:  1\n",
            "epoch:  93  discriminator loss:  0.6931498646736145  gan loss:  0.6954649090766907 batch_size:  1\n",
            "epoch:  94  discriminator loss:  0.3456237018108368  gan loss:  0.06425070762634277 batch_size:  1\n",
            "epoch:  95  discriminator loss:  5.246215343475342  gan loss:  8.750772476196289 batch_size:  1\n",
            "epoch:  96  discriminator loss:  0.4088601768016815  gan loss:  2.1189346313476562 batch_size:  1\n",
            "epoch:  97  discriminator loss:  0.34509244561195374  gan loss:  0.6963594555854797 batch_size:  1\n",
            "epoch:  98  discriminator loss:  0.002182519994676113  gan loss:  0.5580456256866455 batch_size:  1\n",
            "epoch:  99  discriminator loss:  1.171506643295288  gan loss:  17.21891212463379 batch_size:  1\n",
            "epoch:  100  discriminator loss:  0.3478730022907257  gan loss:  0.00610106997191906 batch_size:  1\n",
            "epoch:  101  discriminator loss:  0.0009215361787937582  gan loss:  0.6952950954437256 batch_size:  1\n",
            "epoch:  102  discriminator loss:  0.3458991050720215  gan loss:  0.6953428983688354 batch_size:  1\n",
            "epoch:  103  discriminator loss:  0.7067191004753113  gan loss:  7.857344826334156e-06 batch_size:  1\n",
            "epoch:  104  discriminator loss:  7.683373581812702e-08  gan loss:  0.024057207629084587 batch_size:  1\n",
            "epoch:  105  discriminator loss:  0.34788778424263  gan loss:  0.04960263520479202 batch_size:  1\n",
            "epoch:  106  discriminator loss:  0.3500029444694519  gan loss:  0.05828271061182022 batch_size:  1\n",
            "epoch:  107  discriminator loss:  0.34550830721855164  gan loss:  0.4267902076244354 batch_size:  1\n",
            "epoch:  108  discriminator loss:  0.40156134963035583  gan loss:  0.696002185344696 batch_size:  1\n",
            "epoch:  109  discriminator loss:  3.7345714569091797  gan loss:  0.696424126625061 batch_size:  1\n",
            "epoch:  110  discriminator loss:  0.15587963163852692  gan loss:  1.9292077979571332e-07 batch_size:  1\n",
            "epoch:  111  discriminator loss:  0.6931556463241577  gan loss:  0.11896044760942459 batch_size:  1\n",
            "epoch:  112  discriminator loss:  0.0013832439435645938  gan loss:  0.6970279216766357 batch_size:  1\n",
            "epoch:  113  discriminator loss:  0.34465521574020386  gan loss:  0.6972476243972778 batch_size:  1\n",
            "epoch:  114  discriminator loss:  0.01899043284356594  gan loss:  1.4004926681518555 batch_size:  1\n",
            "epoch:  115  discriminator loss:  0.04922715574502945  gan loss:  3.6407384872436523 batch_size:  1\n",
            "epoch:  116  discriminator loss:  0.34457769989967346  gan loss:  0.8299813270568848 batch_size:  1\n",
            "epoch:  117  discriminator loss:  0.3688492178916931  gan loss:  2.322934865951538 batch_size:  1\n",
            "epoch:  118  discriminator loss:  0.00024999657762236893  gan loss:  0.9655200242996216 batch_size:  1\n",
            "epoch:  119  discriminator loss:  4.1367926597595215  gan loss:  0.8578866720199585 batch_size:  1\n",
            "epoch:  120  discriminator loss:  0.3554105758666992  gan loss:  0.9963647127151489 batch_size:  1\n",
            "epoch:  121  discriminator loss:  0.34437477588653564  gan loss:  0.6978281736373901 batch_size:  1\n",
            "epoch:  122  discriminator loss:  0.031896669417619705  gan loss:  0.0010265266755595803 batch_size:  1\n",
            "epoch:  123  discriminator loss:  0.3519209921360016  gan loss:  0.005736872088164091 batch_size:  1\n",
            "epoch:  124  discriminator loss:  0.693156361579895  gan loss:  0.005204275716096163 batch_size:  1\n",
            "epoch:  125  discriminator loss:  0.6931570768356323  gan loss:  0.021638087928295135 batch_size:  1\n",
            "epoch:  126  discriminator loss:  0.3489399254322052  gan loss:  0.07295609265565872 batch_size:  1\n",
            "epoch:  127  discriminator loss:  0.34861084818840027  gan loss:  0.00012515975686255842 batch_size:  1\n",
            "epoch:  128  discriminator loss:  0.3484766483306885  gan loss:  0.00020465288253035396 batch_size:  1\n",
            "epoch:  129  discriminator loss:  8.069314956665039  gan loss:  19.66712760925293 batch_size:  1\n",
            "epoch:  130  discriminator loss:  0.34519097208976746  gan loss:  0.6963010430335999 batch_size:  1\n",
            "epoch:  131  discriminator loss:  0.3448207676410675  gan loss:  0.6968966126441956 batch_size:  1\n",
            "epoch:  132  discriminator loss:  0.005092731211334467  gan loss:  0.6969658732414246 batch_size:  1\n",
            "epoch:  133  discriminator loss:  0.0006438947166316211  gan loss:  0.348275750875473 batch_size:  1\n",
            "epoch:  134  discriminator loss:  0.001108589582145214  gan loss:  0.19449633359909058 batch_size:  1\n",
            "epoch:  135  discriminator loss:  0.3486325144767761  gan loss:  0.011576955206692219 batch_size:  1\n",
            "epoch:  136  discriminator loss:  9.949309605872259e-05  gan loss:  0.00044890231220051646 batch_size:  1\n",
            "epoch:  137  discriminator loss:  0.6931508779525757  gan loss:  0.6958573460578918 batch_size:  1\n",
            "epoch:  138  discriminator loss:  1.6759947538375854  gan loss:  0.2332523763179779 batch_size:  1\n",
            "epoch:  139  discriminator loss:  2.803407907485962  gan loss:  0.6966068744659424 batch_size:  1\n",
            "epoch:  140  discriminator loss:  0.5476460456848145  gan loss:  0.5283963680267334 batch_size:  1\n",
            "epoch:  141  discriminator loss:  0.008682912215590477  gan loss:  0.6952595114707947 batch_size:  1\n",
            "epoch:  142  discriminator loss:  0.3484935164451599  gan loss:  0.013940966688096523 batch_size:  1\n",
            "epoch:  143  discriminator loss:  0.01109622698277235  gan loss:  0.2744463384151459 batch_size:  1\n",
            "epoch:  144  discriminator loss:  0.0375482514500618  gan loss:  0.13942940533161163 batch_size:  1\n",
            "epoch:  145  discriminator loss:  0.0001947368582477793  gan loss:  0.18002495169639587 batch_size:  1\n",
            "epoch:  146  discriminator loss:  0.020757131278514862  gan loss:  0.6956934332847595 batch_size:  1\n",
            "epoch:  147  discriminator loss:  0.004287507385015488  gan loss:  0.002301689237356186 batch_size:  1\n",
            "epoch:  148  discriminator loss:  0.6931509971618652  gan loss:  0.006653073709458113 batch_size:  1\n",
            "epoch:  149  discriminator loss:  0.3501541316509247  gan loss:  2.275590181350708 batch_size:  1\n"
          ]
        }
      ]
    },
    {
      "cell_type": "code",
      "source": [
        "images=images.numpy()"
      ],
      "metadata": {
        "id": "UbA-xLu6LXnI"
      },
      "execution_count": 26,
      "outputs": []
    },
    {
      "cell_type": "markdown",
      "source": [
        "#### Image recieved from generator after training\n",
        "##### Note: The image generated looking odds because of the cause of short training. The purpose of the project with the available computation was to demonstrate the working of DCGAN and that the model is able to generate different images and color\n",
        "\n",
        "##### If you intend to make the model more accurate. I would recommend you to run it for at least 300 epochs and with Data augmented"
      ],
      "metadata": {
        "id": "ze00oD5gaxAR"
      }
    },
    {
      "cell_type": "code",
      "source": [
        "plt.imshow((images[0]*255).astype(np.uint8))"
      ],
      "metadata": {
        "colab": {
          "base_uri": "https://localhost:8080/",
          "height": 450
        },
        "id": "f-aionvw8z1T",
        "outputId": "b3de7efa-7162-4281-90c6-69c27fa00322"
      },
      "execution_count": 73,
      "outputs": [
        {
          "output_type": "execute_result",
          "data": {
            "text/plain": [
              "<matplotlib.image.AxesImage at 0x7f4b82d9a440>"
            ]
          },
          "metadata": {},
          "execution_count": 73
        },
        {
          "output_type": "display_data",
          "data": {
            "text/plain": [
              "<Figure size 640x480 with 1 Axes>"
            ],
            "image/png": "[encoded data removed]"
          },
          "metadata": {}
        }
      ]
    },
    {
      "cell_type": "markdown",
      "source": [
        "### Predicting set of new images from the Generator"
      ],
      "metadata": {
        "id": "omZGDy3Ya4as"
      }
    },
    {
      "cell_type": "code",
      "source": [
        "num_images=10"
      ],
      "metadata": {
        "id": "QJ872yA0SpAr"
      },
      "execution_count": 79,
      "outputs": []
    },
    {
      "cell_type": "code",
      "source": [
        "noise=tf.random.normal((num_images,1,1,128))"
      ],
      "metadata": {
        "id": "H422JT2jCTNx"
      },
      "execution_count": 80,
      "outputs": []
    },
    {
      "cell_type": "code",
      "source": [
        "prediction=generator.predict(noise)"
      ],
      "metadata": {
        "colab": {
          "base_uri": "https://localhost:8080/"
        },
        "id": "rZNBxOqUR_gy",
        "outputId": "080678fb-552c-4a6c-f6cd-edf5605dfab9"
      },
      "execution_count": 81,
      "outputs": [
        {
          "output_type": "stream",
          "name": "stdout",
          "text": [
            "1/1 [==============================] - 0s 137ms/step\n"
          ]
        }
      ]
    },
    {
      "cell_type": "code",
      "source": [
        "print(\"Number of images generated: \",len(prediction))"
      ],
      "metadata": {
        "colab": {
          "base_uri": "https://localhost:8080/"
        },
        "id": "AthXiwB-ST77",
        "outputId": "6cee7ffb-639a-4547-a8ef-b829d0d71cd7"
      },
      "execution_count": 82,
      "outputs": [
        {
          "output_type": "stream",
          "name": "stdout",
          "text": [
            "Number of images generated:  10\n"
          ]
        }
      ]
    },
    {
      "cell_type": "code",
      "source": [
        "plt.figure(figsize=(num_images, 2))\n",
        "for i in range(num_images):\n",
        "  plt.subplot(1, num_images, i+1)\n",
        "  plt.imshow((prediction[i]*255).astype(np.uint8))\n",
        "  plt.axis('off')\n",
        "  plt.show()"
      ],
      "metadata": {
        "colab": {
          "base_uri": "https://localhost:8080/",
          "height": 660
        },
        "id": "A_lhkjJFSbyx",
        "outputId": "cb5c356c-b9b4-49b6-ddc1-4f464f33ed0c"
      },
      "execution_count": 89,
      "outputs": [
        {
          "output_type": "display_data",
          "data": {
            "text/plain": [
              "<Figure size 1000x200 with 1 Axes>"
            ],
            "image/png": "[encoded data removed]"
          },
          "metadata": {}
        },
        {
          "output_type": "display_data",
          "data": {
            "text/plain": [
              "<Figure size 640x480 with 1 Axes>"
            ],
            "image/png": "[encoded data removed]"
          },
          "metadata": {}
        },
        {
          "output_type": "display_data",
          "data": {
            "text/plain": [
              "<Figure size 640x480 with 1 Axes>"
            ],
            "image/png": "[encoded data removed]"
          },
          "metadata": {}
        },
        {
          "output_type": "display_data",
          "data": {
            "text/plain": [
              "<Figure size 640x480 with 1 Axes>"
            ],
            "image/png": "[encoded data removed]"
          },
          "metadata": {}
        },
        {
          "output_type": "display_data",
          "data": {
            "text/plain": [
              "<Figure size 640x480 with 1 Axes>"
            ],
            "image/png": "[encoded data removed]"
          },
          "metadata": {}
        },
        {
          "output_type": "display_data",
          "data": {
            "text/plain": [
              "<Figure size 640x480 with 1 Axes>"
            ],
            "image/png": "[encoded data removed]"
          },
          "metadata": {}
        },
        {
          "output_type": "display_data",
          "data": {
            "text/plain": [
              "<Figure size 640x480 with 1 Axes>"
            ],
            "image/png": "[encoded data removed]"
          },
          "metadata": {}
        },
        {
          "output_type": "display_data",
          "data": {
            "text/plain": [
              "<Figure size 640x480 with 1 Axes>"
            ],
            "image/png": "[encoded data removed]"
          },
          "metadata": {}
        },
        {
          "output_type": "display_data",
          "data": {
            "text/plain": [
              "<Figure size 640x480 with 1 Axes>"
            ],
            "image/png": "[encoded data removed]"
          },
          "metadata": {}
        },
        {
          "output_type": "display_data",
          "data": {
            "text/plain": [
              "<Figure size 640x480 with 1 Axes>"
            ],
            "image/png": "[encoded data removed]"
          },
          "metadata": {}
        }
      ]
    },
    {
      "cell_type": "markdown",
      "source": [
        "### Saving the models"
      ],
      "metadata": {
        "id": "yMN3rJ6ra-GP"
      }
    },
    {
      "cell_type": "code",
      "source": [
        "generator.save(\"/content/drive/MyDrive/game-assest-generator/generator.h5\")"
      ],
      "metadata": {
        "colab": {
          "base_uri": "https://localhost:8080/"
        },
        "id": "RtG29zN7S3pk",
        "outputId": "0376c7de-4456-42e0-c91f-f9a273b37be2"
      },
      "execution_count": 90,
      "outputs": [
        {
          "output_type": "stream",
          "name": "stderr",
          "text": [
            "WARNING:tensorflow:Compiled the loaded model, but the compiled metrics have yet to be built. `model.compile_metrics` will be empty until you train or evaluate the model.\n"
          ]
        }
      ]
    },
    {
      "cell_type": "code",
      "source": [
        "discriminator.save(\"/content/drive/MyDrive/game-assest-generator/discriminator.h5\")"
      ],
      "metadata": {
        "id": "Huf4pdjmVQnP"
      },
      "execution_count": 91,
      "outputs": []
    }
  ]
}
